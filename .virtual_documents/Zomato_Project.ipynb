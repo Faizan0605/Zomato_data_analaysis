


import pandas as pd
import numpy as np
import matplotlib.pyplot as plt
import seaborn as sns


df = pd.read_csv("Zomato data .csv")


df.head()


df["rate"].dtype





def handleRate(value):
    value = str(value).split("/")
    value = value[0];
    return float(value)

df['rate'] = df['rate'].apply(handleRate)

df.head()
    



df['rate'].dtype


df.info()





sns.countplot(x=df['listed_in(type)'])
plt.xlabel("type of resturant")





groupedData = df.groupby('listed_in(type)')['votes'].sum()
result = pd.DataFrame({'votes':groupedData})
plt.plot(result, c="green", marker="o")
plt.xlabel("Type of resturant" , size=20)
plt.ylabel("Votes" , size=20)





df.describe()


plt.hist(df['rate'], bins=20)
plt.title("Ratings distribution")
plt.show()


df['rate'].mode()



