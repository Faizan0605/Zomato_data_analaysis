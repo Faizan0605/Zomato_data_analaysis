


import pandas as pd
import numpy as np
import matplotlib.pyplot as plt
import seaborn as sns


df = pd.read_csv("Zomato data .csv")


df.head()


df["rate"].dtype





def handleRate(value):
    value = str(value).split("/")
    value = value[0];
    return float(value)

df['rate'] = df['rate'].apply(handleRate)
print(df.head())
    




